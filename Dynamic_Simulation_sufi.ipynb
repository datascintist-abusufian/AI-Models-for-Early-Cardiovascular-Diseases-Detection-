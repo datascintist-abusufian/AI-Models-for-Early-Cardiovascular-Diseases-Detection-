{
  "nbformat": 4,
  "nbformat_minor": 0,
  "metadata": {
    "colab": {
      "provenance": []
    },
    "kernelspec": {
      "name": "python3",
      "display_name": "Python 3"
    },
    "language_info": {
      "name": "python"
    }
  },
  "cells": [
    {
      "cell_type": "code",
      "execution_count": 1,
      "metadata": {
        "colab": {
          "base_uri": "https://localhost:8080/"
        },
        "id": "ezRexspq1sD6",
        "outputId": "ebaf0131-b221-4478-8bb7-6a43214c4010"
      },
      "outputs": [
        {
          "output_type": "execute_result",
          "data": {
            "text/plain": [
              "[{'unique_id': 0,\n",
              "  'health_data': {'age': 41, 'weight': 51},\n",
              "  'genetic_risk': 0.4141894024476057,\n",
              "  'lifestyle_risk': 0.46426699087394685,\n",
              "  'disease_progression': 0},\n",
              " {'unique_id': 1,\n",
              "  'health_data': {'age': 33, 'weight': 85},\n",
              "  'genetic_risk': 0.14873861391788645,\n",
              "  'lifestyle_risk': 0.054130464918875076,\n",
              "  'disease_progression': 0.05327622865123512},\n",
              " {'unique_id': 2,\n",
              "  'health_data': {'age': 61, 'weight': 61},\n",
              "  'genetic_risk': 0.9241445375706826,\n",
              "  'lifestyle_risk': 0.946860825881447,\n",
              "  'disease_progression': 0.06076492764714321},\n",
              " {'unique_id': 3,\n",
              "  'health_data': {'age': 41, 'weight': 95},\n",
              "  'genetic_risk': 0.04293974236904241,\n",
              "  'lifestyle_risk': 0.5856904524106864,\n",
              "  'disease_progression': 0},\n",
              " {'unique_id': 4,\n",
              "  'health_data': {'age': 55, 'weight': 82},\n",
              "  'genetic_risk': 0.9173802578643853,\n",
              "  'lifestyle_risk': 0.9444008390101809,\n",
              "  'disease_progression': 0.0775883844143328}]"
            ]
          },
          "metadata": {},
          "execution_count": 1
        }
      ],
      "source": [
        "import random\n",
        "\n",
        "# Define a patient agent with health data, genetic risk, lifestyle risk, and disease progression\n",
        "class PatientAgent:\n",
        "    def __init__(self, unique_id, health_data, genetic_risk, lifestyle_risk):\n",
        "        self.unique_id = unique_id\n",
        "        self.health_data = health_data\n",
        "        self.genetic_risk = genetic_risk\n",
        "        self.lifestyle_risk = lifestyle_risk\n",
        "        self.disease_progression = 0\n",
        "\n",
        "    def update_disease_progression(self):\n",
        "        # Update disease progression based on genetic and lifestyle risks\n",
        "        progression_factor = self.genetic_risk + self.lifestyle_risk\n",
        "        self.disease_progression += progression_factor * random.uniform(0.01, 0.05)\n",
        "\n",
        "    def apply_treatment(self):\n",
        "        # Simulate treatment effect\n",
        "        treatment_effect = random.uniform(0.1, 0.3)\n",
        "        self.disease_progression = max(0, self.disease_progression - treatment_effect)\n",
        "\n",
        "# Initialize a list of patient agents\n",
        "patient_agents = [\n",
        "    PatientAgent(\n",
        "        unique_id=i,\n",
        "        health_data={\"age\": random.randint(30, 70), \"weight\": random.randint(50, 100)},\n",
        "        genetic_risk=random.random(),\n",
        "        lifestyle_risk=random.random()\n",
        "    )\n",
        "    for i in range(5)\n",
        "]\n",
        "\n",
        "# Simulate disease progression\n",
        "for day in range(10):  # Simulate 10 days\n",
        "    for agent in patient_agents:\n",
        "        agent.update_disease_progression()\n",
        "        # Randomly decide if the patient receives treatment on this day\n",
        "        if random.choice([True, False]):\n",
        "            agent.apply_treatment()\n",
        "\n",
        "# Output the state of the patient agents after the simulation\n",
        "agent_states = [vars(agent) for agent in patient_agents]\n",
        "agent_states\n"
      ]
    },
    {
      "cell_type": "code",
      "source": [],
      "metadata": {
        "id": "lQKsbNRDHrQt"
      },
      "execution_count": null,
      "outputs": []
    }
  ]
}