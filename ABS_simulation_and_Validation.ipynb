{
  "nbformat": 4,
  "nbformat_minor": 0,
  "metadata": {
    "colab": {
      "provenance": []
    },
    "kernelspec": {
      "name": "python3",
      "display_name": "Python 3"
    },
    "language_info": {
      "name": "python"
    }
  },
  "cells": [
    {
      "cell_type": "code",
      "execution_count": 1,
      "metadata": {
        "colab": {
          "base_uri": "https://localhost:8080/"
        },
        "id": "ezRexspq1sD6",
        "outputId": "6d123e19-9d90-4097-b6e4-a5d3c897b30c"
      },
      "outputs": [
        {
          "output_type": "execute_result",
          "data": {
            "text/plain": [
              "[{'unique_id': 0,\n",
              "  'health_data': {'age': 61, 'weight': 93},\n",
              "  'genetic_risk': 0.7399590225905374,\n",
              "  'lifestyle_risk': 0.5411989254747295,\n",
              "  'disease_progression': 0.22185674161486552},\n",
              " {'unique_id': 1,\n",
              "  'health_data': {'age': 33, 'weight': 64},\n",
              "  'genetic_risk': 0.3818244811143897,\n",
              "  'lifestyle_risk': 0.5563041643172392,\n",
              "  'disease_progression': 0.04054835509842413},\n",
              " {'unique_id': 2,\n",
              "  'health_data': {'age': 33, 'weight': 71},\n",
              "  'genetic_risk': 0.16759790516789863,\n",
              "  'lifestyle_risk': 0.19375190829556843,\n",
              "  'disease_progression': 0},\n",
              " {'unique_id': 3,\n",
              "  'health_data': {'age': 33, 'weight': 78},\n",
              "  'genetic_risk': 0.5959225343544339,\n",
              "  'lifestyle_risk': 0.8982763920429608,\n",
              "  'disease_progression': 0.13379114921731844},\n",
              " {'unique_id': 4,\n",
              "  'health_data': {'age': 70, 'weight': 99},\n",
              "  'genetic_risk': 0.7287691786876046,\n",
              "  'lifestyle_risk': 0.44303488265138413,\n",
              "  'disease_progression': 0.045257772664475615}]"
            ]
          },
          "metadata": {},
          "execution_count": 1
        }
      ],
      "source": [
        "import random\n",
        "\n",
        "# Define a patient agent with health data, genetic risk, lifestyle risk, and disease progression\n",
        "class PatientAgent:\n",
        "    def __init__(self, unique_id, health_data, genetic_risk, lifestyle_risk):\n",
        "        self.unique_id = unique_id\n",
        "        self.health_data = health_data\n",
        "        self.genetic_risk = genetic_risk\n",
        "        self.lifestyle_risk = lifestyle_risk\n",
        "        self.disease_progression = 0\n",
        "\n",
        "    def update_disease_progression(self):\n",
        "        # Update disease progression based on genetic and lifestyle risks\n",
        "        progression_factor = self.genetic_risk + self.lifestyle_risk\n",
        "        self.disease_progression += progression_factor * random.uniform(0.01, 0.05)\n",
        "\n",
        "    def apply_treatment(self):\n",
        "        # Simulate treatment effect\n",
        "        treatment_effect = random.uniform(0.1, 0.3)\n",
        "        self.disease_progression = max(0, self.disease_progression - treatment_effect)\n",
        "\n",
        "# Initialize a list of patient agents\n",
        "patient_agents = [\n",
        "    PatientAgent(\n",
        "        unique_id=i,\n",
        "        health_data={\"age\": random.randint(30, 70), \"weight\": random.randint(50, 100)},\n",
        "        genetic_risk=random.random(),\n",
        "        lifestyle_risk=random.random()\n",
        "    )\n",
        "    for i in range(5)\n",
        "]\n",
        "\n",
        "# Simulate disease progression\n",
        "for day in range(10):  # Simulate 10 days\n",
        "    for agent in patient_agents:\n",
        "        agent.update_disease_progression()\n",
        "        # Randomly decide if the patient receives treatment on this day\n",
        "        if random.choice([True, False]):\n",
        "            agent.apply_treatment()\n",
        "\n",
        "# Output the state of the patient agents after the simulation\n",
        "agent_states = [vars(agent) for agent in patient_agents]\n",
        "agent_states\n"
      ]
    },
    {
      "cell_type": "code",
      "source": [
        "import random\n",
        "import numpy as np\n",
        "\n",
        "class PatientAgent:\n",
        "    def __init__(self, unique_id, age, weight, genetic_risk, lifestyle_risk):\n",
        "        self.unique_id = unique_id\n",
        "        self.age = age\n",
        "        self.weight = weight\n",
        "        self.genetic_risk = genetic_risk\n",
        "        self.lifestyle_risk = lifestyle_risk\n",
        "        self.disease_progression = 0\n",
        "\n",
        "    def update_disease_progression(self):\n",
        "        \"\"\"Updates disease progression based on genetic and lifestyle risks.\"\"\"\n",
        "        progression_factor = self.genetic_risk + self.lifestyle_risk\n",
        "        self.disease_progression += progression_factor * random.uniform(0.01, 0.05)\n",
        "\n",
        "    def apply_treatment(self):\n",
        "        \"\"\"Applies treatment and reduces disease progression.\"\"\"\n",
        "        treatment_effect = random.uniform(0.1, 0.3)\n",
        "        self.disease_progression = max(0, self.disease_progression - treatment_effect)\n",
        "\n",
        "def simulate_disease_progression():\n",
        "    # Initialize patient agents\n",
        "    patients = [PatientAgent(i, random.randint(30, 70), random.randint(50, 100),\n",
        "                             random.random(), random.random()) for i in range(5)]\n",
        "\n",
        "    # Simulate over a period (e.g., 10 days)\n",
        "    for day in range(10):\n",
        "        for patient in patients:\n",
        "            patient.update_disease_progression()\n",
        "            if random.choice([True, False]):  # Random treatment decision\n",
        "                patient.apply_treatment()\n",
        "\n",
        "    return patients\n",
        "\n",
        "def sensitivity_analysis(patients, parameter, change):\n",
        "    \"\"\"Performs sensitivity analysis by varying a parameter.\"\"\"\n",
        "    original_values = []\n",
        "    for patient in patients:\n",
        "        original = getattr(patient, parameter)\n",
        "        original_values.append(original)\n",
        "        setattr(patient, parameter, original + change)  # Modify parameter\n",
        "\n",
        "        # Re-run simulation with modified parameter\n",
        "        patient.disease_progression = 0\n",
        "        for day in range(10):\n",
        "            patient.update_disease_progression()\n",
        "\n",
        "    # Compare disease progressions\n",
        "    differences = [patient.disease_progression - original for patient, original in zip(patients, original_values)]\n",
        "    return differences\n",
        "\n",
        "# Run the basic simulation\n",
        "patients = simulate_disease_progression()\n",
        "\n",
        "# Perform sensitivity analysis on genetic risk\n",
        "differences = sensitivity_analysis(patients, 'genetic_risk', 0.1)\n",
        "print(\"Sensitivity Analysis Results:\", differences)\n",
        "\n",
        "# Statistical validation (here, just a basic example)\n",
        "from scipy.stats import ttest_1samp\n",
        "\n",
        "# Hypothesis: No change in disease progression; testing against no effect (difference = 0)\n",
        "t_stat, p_value = ttest_1samp(differences, 0)\n",
        "print(\"T-test results -- Statistic:\", t_stat, \"P-value:\", p_value)\n"
      ],
      "metadata": {
        "id": "lQKsbNRDHrQt",
        "colab": {
          "base_uri": "https://localhost:8080/"
        },
        "outputId": "bf29f0fb-46a4-4b41-91c3-09353d3bf642"
      },
      "execution_count": 2,
      "outputs": [
        {
          "output_type": "stream",
          "name": "stdout",
          "text": [
            "Sensitivity Analysis Results: [0.07214262063451726, -0.6522944856884985, -0.04115946634035324, 0.10128283657241444, -0.4110830873538386]\n",
            "T-test results -- Statistic: -1.2580284380532372 P-value: 0.27681114286187086\n"
          ]
        }
      ]
    }
  ]
}